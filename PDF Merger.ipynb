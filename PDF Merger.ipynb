{
  "cells": [
    {
      "cell_type": "code",
      "execution_count": null,
      "id": "767e7120",
      "metadata": {
        "id": "767e7120",
        "outputId": "072817fe-9377-4769-8d1d-0a56aaa3a668"
      },
      "outputs": [
        {
          "name": "stdout",
          "output_type": "stream",
          "text": [
            "Collecting pypdf2\n",
            "  Obtaining dependency information for pypdf2 from https://files.pythonhosted.org/packages/8e/5e/c86a5643653825d3c913719e788e41386bee415c2b87b4f955432f2de6b2/pypdf2-3.0.1-py3-none-any.whl.metadata\n",
            "  Downloading pypdf2-3.0.1-py3-none-any.whl.metadata (6.8 kB)\n",
            "Downloading pypdf2-3.0.1-py3-none-any.whl (232 kB)\n",
            "   ---------------------------------------- 0.0/232.6 kB ? eta -:--:--\n",
            "   - -------------------------------------- 10.2/232.6 kB ? eta -:--:--\n",
            "   - -------------------------------------- 10.2/232.6 kB ? eta -:--:--\n",
            "   ----- --------------------------------- 30.7/232.6 kB 330.3 kB/s eta 0:00:01\n",
            "   ------ -------------------------------- 41.0/232.6 kB 281.8 kB/s eta 0:00:01\n",
            "   --------------- ----------------------- 92.2/232.6 kB 438.1 kB/s eta 0:00:01\n",
            "   --------------------- ---------------- 133.1/232.6 kB 561.1 kB/s eta 0:00:01\n",
            "   ------------------------------ ------- 184.3/232.6 kB 619.5 kB/s eta 0:00:01\n",
            "   -------------------------------------- 232.6/232.6 kB 677.8 kB/s eta 0:00:00\n",
            "Installing collected packages: pypdf2\n",
            "Successfully installed pypdf2-3.0.1\n",
            "Note: you may need to restart the kernel to use updated packages.\n"
          ]
        }
      ],
      "source": [
        "pip install pypdf2"
      ]
    },
    {
      "cell_type": "code",
      "execution_count": null,
      "id": "b14ae78a",
      "metadata": {
        "id": "b14ae78a"
      },
      "outputs": [],
      "source": [
        "import PyPDF2\n",
        "import sys\n",
        "import os"
      ]
    },
    {
      "cell_type": "code",
      "execution_count": null,
      "id": "b245d35c",
      "metadata": {
        "id": "b245d35c",
        "outputId": "8f8af591-7520-43f6-d382-809bd5ded310"
      },
      "outputs": [
        {
          "ename": "NotADirectoryError",
          "evalue": "[WinError 267] The directory name is invalid: 'C:\\\\PDF\\\\Assisgment 1(OS).pdf'",
          "output_type": "error",
          "traceback": [
            "\u001b[1;31m---------------------------------------------------------------------------\u001b[0m",
            "\u001b[1;31mNotADirectoryError\u001b[0m                        Traceback (most recent call last)",
            "Cell \u001b[1;32mIn[9], line 4\u001b[0m\n\u001b[0;32m      2\u001b[0m pdf_directory \u001b[38;5;241m=\u001b[39m \u001b[38;5;124m\"\u001b[39m\u001b[38;5;124mC:\u001b[39m\u001b[38;5;130;01m\\\\\u001b[39;00m\u001b[38;5;124mPDF\u001b[39m\u001b[38;5;130;01m\\\\\u001b[39;00m\u001b[38;5;124mAssisgment-093.pdf\u001b[39m\u001b[38;5;124m\"\u001b[39m\n\u001b[0;32m      3\u001b[0m pdf_directory \u001b[38;5;241m=\u001b[39m \u001b[38;5;124m\"\u001b[39m\u001b[38;5;124mC:\u001b[39m\u001b[38;5;130;01m\\\\\u001b[39;00m\u001b[38;5;124mPDF\u001b[39m\u001b[38;5;130;01m\\\\\u001b[39;00m\u001b[38;5;124mAssisgment 1(OS).pdf\u001b[39m\u001b[38;5;124m\"\u001b[39m\n\u001b[1;32m----> 4\u001b[0m \u001b[38;5;28;01mfor\u001b[39;00m file \u001b[38;5;129;01min\u001b[39;00m os\u001b[38;5;241m.\u001b[39mlistdir(pdf_directory):\n\u001b[0;32m      5\u001b[0m     \u001b[38;5;28;01mif\u001b[39;00m file\u001b[38;5;241m.\u001b[39mendswith(\u001b[38;5;124m\"\u001b[39m\u001b[38;5;124m.pdf\u001b[39m\u001b[38;5;124m\"\u001b[39m):\n\u001b[0;32m      6\u001b[0m         file_path \u001b[38;5;241m=\u001b[39m os\u001b[38;5;241m.\u001b[39mpath\u001b[38;5;241m.\u001b[39mjoin(pdf_directory, file)\n",
            "\u001b[1;31mNotADirectoryError\u001b[0m: [WinError 267] The directory name is invalid: 'C:\\\\PDF\\\\Assisgment 1(OS).pdf'"
          ]
        }
      ],
      "source": [
        "merger = PyPDF2.PdfMerger()\n",
        "pdf_directory = \"C:\\\\PDF\"\n",
        "for file in os.listdir(pdf_directory):\n",
        "    if file.endswith(\".pdf\"):\n",
        "        file_path = os.path.join(pdf_directory, file)\n",
        "        merger.append(file)\n",
        "merger.write(\"COMBINED.pdf\")"
      ]
    }
  ],
  "metadata": {
    "kernelspec": {
      "display_name": "Python 3 (ipykernel)",
      "language": "python",
      "name": "python3"
    },
    "language_info": {
      "codemirror_mode": {
        "name": "ipython",
        "version": 3
      },
      "file_extension": ".py",
      "mimetype": "text/x-python",
      "name": "python",
      "nbconvert_exporter": "python",
      "pygments_lexer": "ipython3",
      "version": "3.11.4"
    },
    "colab": {
      "provenance": []
    }
  },
  "nbformat": 4,
  "nbformat_minor": 5
}